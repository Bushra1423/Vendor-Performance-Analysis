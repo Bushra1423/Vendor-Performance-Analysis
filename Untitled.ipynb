{
 "cells": [
  {
   "cell_type": "code",
   "execution_count": 1,
   "id": "e7a80f90-eed4-4e72-8370-859a2a55b8f5",
   "metadata": {},
   "outputs": [],
   "source": [
    "import pandas as pd\n",
    "import os \n",
    "from sqlalchemy import create_engine\n",
    "import logging\n",
    "import time\n",
    "\n",
    "logging.basicConfig(\n",
    "    filename=\"logs/ingestion.log\",\n",
    "    level=logging.DEBUG,  \n",
    "    format=\"%(asctime)s - %(levelname)s - %(message)s\",\n",
    "    filemode=\"a\"\n",
    ")"
   ]
  },
  {
   "cell_type": "code",
   "execution_count": 2,
   "id": "39f99858-685b-448c-8cee-ab15d3860691",
   "metadata": {},
   "outputs": [],
   "source": [
    "engine = create_engine('sqlite:///inventory.db')"
   ]
  },
  {
   "cell_type": "code",
   "execution_count": 3,
   "id": "2756e9f0-312b-4e84-887e-7eb6d7a93f16",
   "metadata": {},
   "outputs": [
    {
     "name": "stdout",
     "output_type": "stream",
     "text": [
      ".ipynb_checkpoints\n",
      "begin_inventory.csv\n",
      "end_inventory.csv\n",
      "purchases.csv\n",
      "purchase_prices.csv\n",
      "sales.csv\n",
      "vendor_invoice.csv\n"
     ]
    }
   ],
   "source": [
    "for file in os.listdir('C:/Users/DELL/Desktop/Vendor/Data/'):  # Replace YourUsername with your actual username\n",
    "    print(file)"
   ]
  },
  {
   "cell_type": "code",
   "execution_count": 4,
   "id": "e10b5ca9-af98-4944-b2c4-4e6539cf8aa6",
   "metadata": {},
   "outputs": [],
   "source": [
    "def ingest_db(df, table_name, engine):\n",
    "    '''This function will ingest the dataframe into database table'''\n",
    "    df.to_sql(\n",
    "        table_name,\n",
    "        con=engine,\n",
    "        if_exists='replace',\n",
    "        index=False,\n",
    "        chunksize=5000,\n",
    "        method=\"multi\"\n",
    "    )"
   ]
  },
  {
   "cell_type": "code",
   "execution_count": null,
   "id": "b5770ba6-0ec7-4a0d-bfb5-38ec2b9c77cb",
   "metadata": {},
   "outputs": [
    {
     "name": "stdout",
     "output_type": "stream",
     "text": [
      "(206529, 9)\n"
     ]
    }
   ],
   "source": [
    "for file in os.listdir('C:/Users/DELL/Desktop/Vendor/Data/'): \n",
    "    if '.csv' in file:\n",
    "        df=pd.read_csv('C:/Users/DELL/Desktop/Vendor/Data/' + file)\n",
    "        print(df.shape)\n",
    "        ingest_db(df, file[:-4] ,engine)"
   ]
  },
  {
   "cell_type": "code",
   "execution_count": null,
   "id": "30eca5cc-f91a-478d-a377-2b87dffb87be",
   "metadata": {},
   "outputs": [],
   "source": [
    "def load_raw_data():\n",
    "    '''This function will load the CSVs as dataframe and ingest into db'''\n",
    "    start=time.time()\n",
    "    for file in os.listdir('C:/Users/DELL/Desktop/Vendor/Data/'):\n",
    "        if '.csv' in file:\n",
    "            df=pd.read_csv('C:/Users/DELL/Desktop/Vendor/Data/' + file)\n",
    "            print(df.shape)\n",
    "            ingest_db(df, file[:-4] ,engine)\n",
    "    end=time.time()\n",
    "    total_time = (end-start)/60\n",
    "    logging.info('--------------------Ingestion Complete-----------------------')\n",
    "\n",
    "    logging.info(f'\\nTotal Time Taken: {total_time} minutes')    \n",
    "    "
   ]
  },
  {
   "cell_type": "code",
   "execution_count": 1,
   "id": "7eab8983-6a50-4438-b90d-b76a37e646d0",
   "metadata": {},
   "outputs": [
    {
     "name": "stdout",
     "output_type": "stream",
     "text": [
      "(206529, 9)\n",
      "(224489, 9)\n",
      "(2372474, 16)\n",
      "(12261, 9)\n",
      "(12825363, 14)\n",
      "(5543, 10)\n"
     ]
    }
   ],
   "source": [
    "import pandas as pd\n",
    "import os \n",
    "from sqlalchemy import create_engine\n",
    "import logging\n",
    "import time\n",
    "\n",
    "logging.basicConfig(\n",
    "    filename=\"logs/ingestion.log\",\n",
    "    level=logging.DEBUG,  \n",
    "    format=\"%(asctime)s - %(levelname)s - %(message)s\",\n",
    "    filemode=\"a\"\n",
    ")\n",
    "\n",
    "engine = create_engine('sqlite:///inventory.db')\n",
    "\n",
    "def ingest_db(df, table_name, engine):\n",
    "    '''This function will ingest the dataframe into database table'''\n",
    "    df.to_sql(\n",
    "        table_name,\n",
    "        con=engine,\n",
    "        if_exists='replace',\n",
    "        index=False,\n",
    "        chunksize=5000,\n",
    "        method=\"multi\"\n",
    "    )\n",
    "\n",
    "\n",
    "def load_raw_data():\n",
    "    '''This function will load the CSVs as dataframe and ingest into db'''\n",
    "    start=time.time()\n",
    "    for file in os.listdir('C:/Users/DELL/Desktop/Vendor/Data/'):\n",
    "        if '.csv' in file:\n",
    "            df=pd.read_csv('C:/Users/DELL/Desktop/Vendor/Data/' + file)\n",
    "            print(df.shape)\n",
    "            ingest_db(df, file[:-4] ,engine)\n",
    "    end=time.time()\n",
    "    total_time = (end-start)/60\n",
    "    logging.info('--------------------Ingestion Complete-----------------------')\n",
    "\n",
    "    logging.info(f'\\nTotal Time Taken: {total_time} minutes')\n",
    "\n",
    "if __name__ == '__main__':\n",
    "    load_raw_data()"
   ]
  },
  {
   "cell_type": "code",
   "execution_count": null,
   "id": "b4118937-d126-44ae-ba8b-204a5ae30871",
   "metadata": {},
   "outputs": [],
   "source": []
  }
 ],
 "metadata": {
  "kernelspec": {
   "display_name": "Python [conda env:base] *",
   "language": "python",
   "name": "conda-base-py"
  },
  "language_info": {
   "codemirror_mode": {
    "name": "ipython",
    "version": 3
   },
   "file_extension": ".py",
   "mimetype": "text/x-python",
   "name": "python",
   "nbconvert_exporter": "python",
   "pygments_lexer": "ipython3",
   "version": "3.12.7"
  }
 },
 "nbformat": 4,
 "nbformat_minor": 5
}
